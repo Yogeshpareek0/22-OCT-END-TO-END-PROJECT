{
 "cells": [
  {
   "cell_type": "markdown",
   "metadata": {},
   "source": [
    "# steps\n",
    "## 1.data ingestion\n",
    "## 2.EDA\n",
    "## 3.FE\n",
    "## 4.model building\n",
    "## 5.evaluation"
   ]
  },
  {
   "cell_type": "code",
   "execution_count": 13,
   "metadata": {},
   "outputs": [],
   "source": [
    "import os\n",
    "from pathlib import Path\n",
    "\n",
    "\n",
    "package_name = \"DimondPricePrediction\"\n",
    "\n",
    "list_of_files = [\n",
    "    \".github\\\\workflows\\\\.gitkeep\",\n",
    "     f\"src\\\\{package_name}\\\\__init__.py\",\n",
    "     f\"src\\\\{package_name}\\\\components\\\\__init__.py\",\n",
    "\n",
    "]\n",
    "\n",
    "\n",
    "\n",
    "\n",
    "for filepath in list_of_files:\n",
    "    filepath=Path(filepath)\n",
    "    filedir,filename=os.path.split(filepath)\n",
    "    if filedir!=\"\":\n",
    "        os.makedirs(filedir,exist_ok=True)\n",
    "    if(not os.path.exists(filepath)) or (os.path.getsize(filepath)==0):\n",
    "        with open (filepath,\"w\") as f:\n",
    "            pass\n",
    "    else:\n",
    "        print (\"file is already exist\")"
   ]
  }
 ],
 "metadata": {
  "kernelspec": {
   "display_name": "Python 3",
   "language": "python",
   "name": "python3"
  },
  "language_info": {
   "codemirror_mode": {
    "name": "ipython",
    "version": 3
   },
   "file_extension": ".py",
   "mimetype": "text/x-python",
   "name": "python",
   "nbconvert_exporter": "python",
   "pygments_lexer": "ipython3",
   "version": "3.8.0"
  }
 },
 "nbformat": 4,
 "nbformat_minor": 2
}
