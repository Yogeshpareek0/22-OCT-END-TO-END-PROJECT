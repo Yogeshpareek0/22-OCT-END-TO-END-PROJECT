{
 "cells": [
  {
   "cell_type": "markdown",
   "metadata": {},
   "source": [
    "# steps\n",
    "## 1.data ingestion\n",
    "## 2.EDA\n",
    "## 3.FE\n",
    "## 4.model building\n",
    "## 5.evaluation"
   ]
  },
  {
   "cell_type": "code",
   "execution_count": 29,
   "metadata": {},
   "outputs": [],
   "source": [
    "#create folder and file\n",
    "import os\n",
    "from pathlib import Path\n",
    "\n",
    "\n",
    "package_name = \"DimondPricePrediction\"\n",
    "\n",
    "list_of_files = [\n",
    "    \".github\\\\workflows\\\\.gitkeep\",\n",
    "     f\"src\\\\{package_name}\\\\__init__.py\",\n",
    "     f\"src\\\\{package_name}\\\\components\\\\__init__.py\",\n",
    "\n",
    "]\n",
    "\n",
    "\n",
    "\n",
    "\n",
    "for filepath in list_of_files:\n",
    "    filepath=Path(filepath)\n",
    "    filedir,filename=os.path.split(filepath)\n",
    "    if filedir!=\"\":\n",
    "        os.makedirs(filedir,exist_ok=True)\n",
    "    if(not os.path.exists(filepath)) or (os.path.getsize(filepath)==0):\n",
    "        with open (filepath,\"w\") as f:\n",
    "            pass\n",
    "    else:\n",
    "        print (\"file is already exist\")"
   ]
  },
  {
   "cell_type": "markdown",
   "metadata": {},
   "source": [
    "# install local package \n",
    "# 1.pip install .\n",
    "# or\n",
    "# 3.setup.py"
   ]
  },
  {
   "cell_type": "code",
   "execution_count": 28,
   "metadata": {},
   "outputs": [],
   "source": [
    "import sys\n",
    "class CustomException(Exception):\n",
    "    def __init__(self,error_message,error_details:sys):\n",
    "        self.error_message=error_message\n",
    "        _,_,exe_tb=error_details.exc_info()\n",
    "\n",
    "        self.line_no=exe_tb.tb_lineno\n",
    "        self.file_name=exe_tb.tb_frame.f_code.co_filename\n",
    "    def __str__(self):\n",
    "        return f\"error occured in python script name [{self.file_name}] line no [{self.line_no}] error message [{str(self.error_message)}]\"\n",
    "    \n",
    "\n"
   ]
  },
  {
   "cell_type": "code",
   "execution_count": 34,
   "metadata": {},
   "outputs": [
    {
     "ename": "CustomException",
     "evalue": "error occured in python script name [C:\\Users\\acer\\AppData\\Local\\Temp\\ipykernel_8056\\2044571646.py] line no [2] error message [division by zero]",
     "output_type": "error",
     "traceback": [
      "\u001b[1;31m---------------------------------------------------------------------------\u001b[0m",
      "\u001b[1;31mZeroDivisionError\u001b[0m                         Traceback (most recent call last)",
      "\u001b[1;32mf:\\I-Neuron\\22-OCT-END-TO-END-PROJECT\\support.ipynb Cell 5\u001b[0m line \u001b[0;36m2\n\u001b[0;32m      <a href='vscode-notebook-cell:/f%3A/I-Neuron/22-OCT-END-TO-END-PROJECT/support.ipynb#W4sZmlsZQ%3D%3D?line=0'>1</a>\u001b[0m \u001b[39mtry\u001b[39;00m:\n\u001b[1;32m----> <a href='vscode-notebook-cell:/f%3A/I-Neuron/22-OCT-END-TO-END-PROJECT/support.ipynb#W4sZmlsZQ%3D%3D?line=1'>2</a>\u001b[0m     a\u001b[39m=\u001b[39m\u001b[39m1\u001b[39;49m\u001b[39m/\u001b[39;49m\u001b[39m0\u001b[39;49m\n\u001b[0;32m      <a href='vscode-notebook-cell:/f%3A/I-Neuron/22-OCT-END-TO-END-PROJECT/support.ipynb#W4sZmlsZQ%3D%3D?line=2'>3</a>\u001b[0m \u001b[39mexcept\u001b[39;00m \u001b[39mException\u001b[39;00m \u001b[39mas\u001b[39;00m e:\n",
      "\u001b[1;31mZeroDivisionError\u001b[0m: division by zero",
      "\nDuring handling of the above exception, another exception occurred:\n",
      "\u001b[1;31mCustomException\u001b[0m                           Traceback (most recent call last)",
      "\u001b[1;32mf:\\I-Neuron\\22-OCT-END-TO-END-PROJECT\\support.ipynb Cell 5\u001b[0m line \u001b[0;36m4\n\u001b[0;32m      <a href='vscode-notebook-cell:/f%3A/I-Neuron/22-OCT-END-TO-END-PROJECT/support.ipynb#W4sZmlsZQ%3D%3D?line=1'>2</a>\u001b[0m     a\u001b[39m=\u001b[39m\u001b[39m1\u001b[39m\u001b[39m/\u001b[39m\u001b[39m0\u001b[39m\n\u001b[0;32m      <a href='vscode-notebook-cell:/f%3A/I-Neuron/22-OCT-END-TO-END-PROJECT/support.ipynb#W4sZmlsZQ%3D%3D?line=2'>3</a>\u001b[0m \u001b[39mexcept\u001b[39;00m \u001b[39mException\u001b[39;00m \u001b[39mas\u001b[39;00m e:\n\u001b[1;32m----> <a href='vscode-notebook-cell:/f%3A/I-Neuron/22-OCT-END-TO-END-PROJECT/support.ipynb#W4sZmlsZQ%3D%3D?line=3'>4</a>\u001b[0m     \u001b[39mraise\u001b[39;00m CustomException(e,sys)\n",
      "\u001b[1;31mCustomException\u001b[0m: error occured in python script name [C:\\Users\\acer\\AppData\\Local\\Temp\\ipykernel_8056\\2044571646.py] line no [2] error message [division by zero]"
     ]
    }
   ],
   "source": [
    "try:\n",
    "    a=1/0\n",
    "except Exception as e:\n",
    "    raise CustomException(e,sys)\n",
    "\n"
   ]
  }
 ],
 "metadata": {
  "kernelspec": {
   "display_name": "Python 3",
   "language": "python",
   "name": "python3"
  },
  "language_info": {
   "codemirror_mode": {
    "name": "ipython",
    "version": 3
   },
   "file_extension": ".py",
   "mimetype": "text/x-python",
   "name": "python",
   "nbconvert_exporter": "python",
   "pygments_lexer": "ipython3",
   "version": "3.9.0"
  }
 },
 "nbformat": 4,
 "nbformat_minor": 2
}
